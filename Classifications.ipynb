{
 "cells": [
  {
   "cell_type": "code",
   "execution_count": 3,
   "id": "gothic-favorite",
   "metadata": {},
   "outputs": [],
   "source": [
    "#for this notebook to run, you'd need python 3, numpy and scipy\n",
    "import numpy as np\n",
    "import time\n",
    "import sklearn\n",
    "#testing Gram Matrix on simple classificationconda \n",
    "from sklearn.datasets import make_classification\n",
    "from sklearn import svm\n",
    "import Kernel_lib"
   ]
  },
  {
   "attachments": {},
   "cell_type": "markdown",
   "id": "0024cacf",
   "metadata": {},
   "source": [
    "# Classification \n",
    "\n",
    "on sklearn make_classification dataset "
   ]
  },
  {
   "cell_type": "code",
   "execution_count": 14,
   "id": "cfa9ee76",
   "metadata": {},
   "outputs": [
    {
     "name": "stdout",
     "output_type": "stream",
     "text": [
      "20\n",
      "Performance on FLAKE with Custom (Polynomial) Gram Kernel: \n",
      "F1 Score Micro: 0.83 (+/- 0.02)\n",
      "ROC AUC Score: 0.91 (+/- 0.02)\n",
      "Precision Micro Score: 0.83 (+/- 0.02)\n",
      "Recall Micro Score: 0.83 (+/- 0.02)\n",
      "Accuracy: 0.83 (+/- 0.02)\n",
      "Performance on OKRA with Custom (Polynomial) Gram Kernel: \n",
      "F1 Score Micro: 0.83 (+/- 0.02)\n",
      "ROC AUC Score: 0.91 (+/- 0.02)\n",
      "Precision Micro Score: 0.83 (+/- 0.02)\n",
      "Recall Micro Score: 0.83 (+/- 0.02)\n",
      "Accuracy: 0.83 (+/- 0.02)\n",
      "Performance on Naive SVM: \n",
      "F1 Score macro: 0.81 (+/- 0.03)\n",
      "ROC AUC Score: 0.88 (+/- 0.02)\n",
      "Precision macro Score: 0.81 (+/- 0.03)\n",
      "Recall macro Score: 0.81 (+/- 0.03)\n",
      "Accuracy: 0.81 (+/- 0.03)\n"
     ]
    }
   ],
   "source": [
    "x,y = make_classification(n_samples = 1200)\n",
    "\n",
    "partitions, labels = Kernel_lib.partition_dataset(x, y, 3)\n",
    "\n",
    "n_features = partitions[0].shape[1] \n",
    "print(n_features)\n",
    "k = 1\n",
    "\n",
    "############FLAKE############\n",
    "\n",
    "N = Kernel_lib.random_matrix(n_features + k, n_features) \n",
    "\n",
    "A_prime = Kernel_lib.generate_data_prime(partitions[0], N)\n",
    "B_prime = Kernel_lib.generate_data_prime(partitions[1], N)\n",
    "C_prime = Kernel_lib.generate_data_prime(partitions[2], N)\n",
    "\n",
    "full = Kernel_lib.compute_gram_matrix(A_prime, B_prime, C_prime)\n",
    "\n",
    "clf2 = svm.SVC(kernel = 'precomputed', probability = True)\n",
    "clf2.fit(sklearn.metrics.pairwise.polynomial_kernel(full, Y=None, degree=3, gamma=None, coef0=1), labels)\n",
    "\n",
    "print('Performance on FLAKE with Custom (Polynomial) Gram Kernel: ')\n",
    "Kernel_lib.metrics_micro(clf2, full, labels, cv=5)\n",
    "\n",
    "############NAIVE############\n",
    "\n",
    "clf3 = svm.SVC(kernel = 'poly', probability = True)\n",
    "clf3.fit(x, y)\n",
    "\n",
    "print('Performance on Naive SVM: ')\n",
    "Kernel_lib.metrics_macro(clf3, x, y, cv=5)"
   ]
  },
  {
   "cell_type": "code",
   "execution_count": null,
   "id": "bdf00a1f",
   "metadata": {},
   "outputs": [],
   "source": []
  }
 ],
 "metadata": {
  "kernelspec": {
   "display_name": "kernel",
   "language": "python",
   "name": "python3"
  },
  "language_info": {
   "codemirror_mode": {
    "name": "ipython",
    "version": 3
   },
   "file_extension": ".py",
   "mimetype": "text/x-python",
   "name": "python",
   "nbconvert_exporter": "python",
   "pygments_lexer": "ipython3",
   "version": "3.12.3"
  },
  "vscode": {
   "interpreter": {
    "hash": "e02978320a0c8af891adb662b69b8633710efd65de023f8035a3fe36ee2cbc82"
   }
  }
 },
 "nbformat": 4,
 "nbformat_minor": 5
}
